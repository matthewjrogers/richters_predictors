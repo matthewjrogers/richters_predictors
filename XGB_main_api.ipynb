{
 "cells": [
  {
   "cell_type": "code",
   "execution_count": 1,
   "metadata": {},
   "outputs": [],
   "source": [
    "import pandas as pd\n",
    "import numpy as np\n",
    "#from sklearn.ensemble import RandomForestClassifier, GradientBoostingClassifier, BaggingClassifier, StackingClassifier\n",
    "#from sklearn.model_selection import cross_val_score\n",
    "from sklearn.metrics import f1_score, make_scorer\n",
    "import xgboost as xgb\n",
    "from sklearn.model_selection import StratifiedKFold\n",
    "\n",
    "\n",
    "#from sklearn.model_selection import StratifiedKFold\n",
    "from sklearn.experimental import enable_iterative_imputer\n",
    "from sklearn.impute import IterativeImputer\n",
    "import category_encoders as ce\n",
    "\n",
    "from imblearn.combine import SMOTETomek"
   ]
  },
  {
   "cell_type": "code",
   "execution_count": 2,
   "metadata": {},
   "outputs": [
    {
     "name": "stderr",
     "output_type": "stream",
     "text": [
      "/home/matt/anaconda3/lib/python3.8/site-packages/category_encoders/utils.py:21: FutureWarning: is_categorical is deprecated and will be removed in a future version.  Use is_categorical_dtype instead\n",
      "  elif pd.api.types.is_categorical(cols):\n"
     ]
    }
   ],
   "source": [
    "train_values = pd.read_csv('train_values.csv')\n",
    "train_labels = pd.read_csv('train_labels.csv')\n",
    "\n",
    "train_values = train_values.applymap(lambda col: np.nan if col == 995 else col)\n",
    "\n",
    "drop_vars = ['building_id',\n",
    "             'has_superstructure_bamboo',                \n",
    "             'has_superstructure_mud_mortar_brick',       \n",
    "             'has_superstructure_adobe_mud',              \n",
    "             'legal_ownership_status',                    \n",
    "             'has_secondary_use',                         \n",
    "             'has_superstructure_stone_flag',             \n",
    "             'has_superstructure_rc_non_engineered',      \n",
    "             'has_superstructure_rc_engineered',          \n",
    "             'has_secondary_use_agriculture',             \n",
    "             'has_superstructure_cement_mortar_stone',    \n",
    "             'has_secondary_use_hotel',                   \n",
    "             'has_superstructure_other',                \n",
    "             'has_secondary_use_rental',                  \n",
    "             'has_secondary_use_other',                   \n",
    "             'has_secondary_use_industry',               \n",
    "             'has_secondary_use_institution',             \n",
    "             'has_secondary_use_school',                  \n",
    "             'has_secondary_use_health_post',            \n",
    "             'has_secondary_use_gov_office',          \n",
    "             'has_secondary_use_use_police' ]\n",
    "\n",
    "\n",
    "train_values = train_values.drop(drop_vars, axis = 1)\n",
    "\n",
    "targ_enc = ce.TargetEncoder()\n",
    "targ_enc.fit(train_values, train_labels['damage_grade'])\n",
    "train_values = targ_enc.transform(train_values)\n",
    "\n",
    "imp = IterativeImputer(max_iter=20, min_value = 0)\n",
    "imp.fit(train_values)\n",
    "\n",
    "train_values = pd.DataFrame(imp.transform(train_values), columns = train_values.columns)"
   ]
  },
  {
   "cell_type": "code",
   "execution_count": 9,
   "metadata": {},
   "outputs": [],
   "source": [
    "dtrain_full = xgb.DMatrix(train_values, train_labels['damage_grade'].astype(int))"
   ]
  },
  {
   "cell_type": "code",
   "execution_count": 10,
   "metadata": {},
   "outputs": [],
   "source": [
    "skf = StratifiedKFold(n_splits = 5, shuffle = True, random_state = 23456)"
   ]
  },
  {
   "cell_type": "code",
   "execution_count": 11,
   "metadata": {},
   "outputs": [],
   "source": [
    "xgb_params = {'objective': 'multi:softmax',\n",
    " 'gamma': 0.001369048068388758,\n",
    " 'eta': 0.11,\n",
    " 'max_depth': 15,\n",
    " 'min_child_weight': 9,\n",
    " 'num_class' : 4,\n",
    " 'subsample' : .85,\n",
    " 'colsample_bytree' : .9\n",
    " }"
   ]
  },
  {
   "cell_type": "code",
   "execution_count": null,
   "metadata": {},
   "outputs": [],
   "source": [
    "def f1_eval(y_pred, dtrain):\n",
    "    y_true = dtrain.get_label()\n",
    "    print(np.argmax(np.round(y_pred)))\n",
    "    err = 1-f1_score(y_true, np.round(y_pred), average = 'micro')\n",
    "    return 'f1_err', err"
   ]
  },
  {
   "cell_type": "code",
   "execution_count": null,
   "metadata": {},
   "outputs": [],
   "source": [
    "cv_results = xgb.cv(xgb_params,\n",
    "                    dtrain_full,\n",
    "                    num_boost_round = 999,\n",
    "                    seed = 234,\n",
    "                    folds = skf,\n",
    "                    early_stopping_rounds = 10,\n",
    "                    feval = f1_eval\n",
    "                    )\n",
    "print(cv_results)\n",
    "print(1 - cv_results['test-merror-mean'].min())"
   ]
  },
  {
   "cell_type": "code",
   "execution_count": 26,
   "metadata": {},
   "outputs": [
    {
     "name": "stdout",
     "output_type": "stream",
     "text": [
      "94\n",
      "133\n",
      "99\n",
      "118\n",
      "124\n"
     ]
    }
   ],
   "source": [
    "f1_scores = []\n",
    "boost_rounds = []\n",
    "for train_idx, test_idx in skf.split(train_values, train_labels.damage_grade):\n",
    "    dtrain = dtrain_full.slice(train_idx)\n",
    "    dtest  = dtrain_full.slice(test_idx)\n",
    "    \n",
    "    model = xgb.train(xgb_params,\n",
    "                      dtrain,\n",
    "                      num_boost_round = 999,\n",
    "                      evals = [(dtest, 'test_set')],\n",
    "                      early_stopping_rounds = 10,\n",
    "                      verbose_eval = False\n",
    "                  )\n",
    "    boost_rounds.append(model.best_iteration + 1)\n",
    "    print(\"Boost Rounds: {}\".format(model.best_iteration + 1))\n",
    "    \n",
    "    preds = model.predict(dtest)\n",
    "    \n",
    "    f1_scores.append(f1_score(dtest.get_label(), preds, average = 'micro'))\n",
    "\n",
    "print(f1_scores)\n",
    "print(\"Mean F1: {}\".format(np.mean(f1_scores)))\n",
    "print(\"Mean Boost Rounds: {}\".format(np.mean(boost_rounds)))"
   ]
  },
  {
   "cell_type": "code",
   "execution_count": 29,
   "metadata": {},
   "outputs": [
    {
     "name": "stdout",
     "output_type": "stream",
     "text": [
      "[0.7444791926478771, 0.7457981580966999, 0.7474865694551035, 0.7425748273215657, 0.744071373752878]\n",
      "0.7448820242548249\n",
      "113.6\n"
     ]
    }
   ],
   "source": [
    "print(f1_scores)\n",
    "print(np.mean(f1_scores))\n",
    "print(np.mean([94, 133, 99, 118, 124]))"
   ]
  },
  {
   "cell_type": "code",
   "execution_count": 30,
   "metadata": {},
   "outputs": [],
   "source": [
    "best_model = xgb.train(xgb_params, dtrain_full, num_boost_round = 114)"
   ]
  },
  {
   "cell_type": "code",
   "execution_count": 33,
   "metadata": {},
   "outputs": [
    {
     "name": "stdout",
     "output_type": "stream",
     "text": [
      "damage_grade\n",
      "2    56282\n",
      "3    24302\n",
      "1     6284\n",
      "dtype: int64\n"
     ]
    }
   ],
   "source": [
    "test = pd.read_csv('test_values.csv')\n",
    "mtest = test.drop(drop_vars, axis = 1)\n",
    "mtest = targ_enc.transform(mtest)\n",
    "mtest = pd.DataFrame(imp.transform(mtest), columns = mtest.columns)\n",
    "dtest = xgb.DMatrix(mtest)\n",
    "\n",
    "test[\"damage_grade\"] = best_model.predict(dtest)\n",
    "test[\"damage_grade\"] = test[\"damage_grade\"].astype(int)\n",
    "print(test.value_counts('damage_grade')) # check that preds look ok"
   ]
  },
  {
   "cell_type": "code",
   "execution_count": 34,
   "metadata": {},
   "outputs": [],
   "source": [
    "test[['building_id', 'damage_grade']].to_csv(\"xgb_model.csv\", index = False)"
   ]
  }
 ],
 "metadata": {
  "kernelspec": {
   "display_name": "Python 3",
   "language": "python",
   "name": "python3"
  },
  "language_info": {
   "codemirror_mode": {
    "name": "ipython",
    "version": 3
   },
   "file_extension": ".py",
   "mimetype": "text/x-python",
   "name": "python",
   "nbconvert_exporter": "python",
   "pygments_lexer": "ipython3",
   "version": "3.8.5"
  }
 },
 "nbformat": 4,
 "nbformat_minor": 4
}
