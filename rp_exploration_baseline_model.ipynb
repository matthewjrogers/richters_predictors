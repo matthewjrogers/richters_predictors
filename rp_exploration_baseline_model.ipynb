{
 "cells": [
  {
   "cell_type": "code",
   "execution_count": 1,
   "metadata": {},
   "outputs": [],
   "source": [
    "import pandas as pd\n",
    "import numpy as np\n",
    "import seaborn as sns\n",
    "from matplotlib import pyplot as plt\n"
   ]
  },
  {
   "cell_type": "code",
   "execution_count": 6,
   "metadata": {},
   "outputs": [],
   "source": [
    "train_values = pd.read_csv('train_values.csv')\n",
    "train_labels = pd.read_csv('train_labels.csv')\n",
    "full_train = train_values.merge(train_labels, on = 'building_id')"
   ]
  },
  {
   "cell_type": "code",
   "execution_count": 15,
   "metadata": {},
   "outputs": [],
   "source": [
    "full_train = full_train.applymap(lambda col: np.nan if col == 995 else col)"
   ]
  },
  {
   "cell_type": "code",
   "execution_count": 5,
   "metadata": {},
   "outputs": [],
   "source": [
    "# custom helper function to get counts and percents by group\n",
    "def count_pct(dataframe, column):\n",
    "    # calculate grouped counts\n",
    "    grp_count = (\n",
    "        dataframe.groupby(column)\n",
    "        .size()\n",
    "        .reset_index(name = 'count')\n",
    "        .sort_values(['count'], ascending = False)\n",
    "        )\n",
    "    # use counts to generate percents\n",
    "    grp_pct = grp_count.assign(\n",
    "        pct = lambda dataframe: dataframe['count'].map(lambda count: count / np.nansum(grp_count['count'])) \n",
    "        )\n",
    "    return grp_pct\n",
    "\n",
    "# custom helper function to print five number summary for a column\n",
    "def five_number_summary(column):\n",
    "    # calculate quartiles\n",
    "    quartiles = np.percentile(column, [25, 50, 75])\n",
    "    # calculate min/max\n",
    "    data_min, data_max = column.min(), column.max()\n",
    "    # print 5-number summary\n",
    "    print('Min: %.3f' % data_min)\n",
    "    print('Q1: %.3f' % quartiles[0])\n",
    "    print('Median: %.3f' % quartiles[1])\n",
    "    print('Q3: %.3f' % quartiles[2])\n",
    "    print('Max: %.3f' % data_max)\n",
    "    \n",
    "def missing_value_plot(data):\n",
    "    plt.style.use('seaborn')\n",
    "    plt.figure(figsize = (15,10))\n",
    "    sns.heatmap(data.isnull(), yticklabels = False, cmap = 'plasma')\n",
    "    plt.title('Missing Values in Data Set');\n",
    "    plt.show()\n",
    "\n"
   ]
  },
  {
   "cell_type": "code",
   "execution_count": 16,
   "metadata": {},
   "outputs": [
    {
     "data": {
      "text/html": [
       "<div>\n",
       "<style scoped>\n",
       "    .dataframe tbody tr th:only-of-type {\n",
       "        vertical-align: middle;\n",
       "    }\n",
       "\n",
       "    .dataframe tbody tr th {\n",
       "        vertical-align: top;\n",
       "    }\n",
       "\n",
       "    .dataframe thead th {\n",
       "        text-align: right;\n",
       "    }\n",
       "</style>\n",
       "<table border=\"1\" class=\"dataframe\">\n",
       "  <thead>\n",
       "    <tr style=\"text-align: right;\">\n",
       "      <th></th>\n",
       "      <th>building_id</th>\n",
       "      <th>geo_level_1_id</th>\n",
       "      <th>geo_level_2_id</th>\n",
       "      <th>geo_level_3_id</th>\n",
       "      <th>count_floors_pre_eq</th>\n",
       "      <th>age</th>\n",
       "      <th>area_percentage</th>\n",
       "      <th>height_percentage</th>\n",
       "      <th>has_superstructure_adobe_mud</th>\n",
       "      <th>has_superstructure_mud_mortar_stone</th>\n",
       "      <th>...</th>\n",
       "      <th>has_secondary_use_hotel</th>\n",
       "      <th>has_secondary_use_rental</th>\n",
       "      <th>has_secondary_use_institution</th>\n",
       "      <th>has_secondary_use_school</th>\n",
       "      <th>has_secondary_use_industry</th>\n",
       "      <th>has_secondary_use_health_post</th>\n",
       "      <th>has_secondary_use_gov_office</th>\n",
       "      <th>has_secondary_use_use_police</th>\n",
       "      <th>has_secondary_use_other</th>\n",
       "      <th>damage_grade</th>\n",
       "    </tr>\n",
       "  </thead>\n",
       "  <tbody>\n",
       "    <tr>\n",
       "      <th>count</th>\n",
       "      <td>2.606010e+05</td>\n",
       "      <td>260601.000000</td>\n",
       "      <td>260599.000000</td>\n",
       "      <td>260569.000000</td>\n",
       "      <td>260601.000000</td>\n",
       "      <td>259211.000000</td>\n",
       "      <td>260601.000000</td>\n",
       "      <td>260601.000000</td>\n",
       "      <td>260601.000000</td>\n",
       "      <td>260601.000000</td>\n",
       "      <td>...</td>\n",
       "      <td>260601.000000</td>\n",
       "      <td>260601.000000</td>\n",
       "      <td>260601.000000</td>\n",
       "      <td>260601.000000</td>\n",
       "      <td>260601.000000</td>\n",
       "      <td>260601.000000</td>\n",
       "      <td>260601.000000</td>\n",
       "      <td>260601.000000</td>\n",
       "      <td>260601.000000</td>\n",
       "      <td>260601.000000</td>\n",
       "    </tr>\n",
       "    <tr>\n",
       "      <th>mean</th>\n",
       "      <td>5.256755e+05</td>\n",
       "      <td>13.900353</td>\n",
       "      <td>701.072429</td>\n",
       "      <td>6258.522472</td>\n",
       "      <td>2.129723</td>\n",
       "      <td>21.341706</td>\n",
       "      <td>8.018051</td>\n",
       "      <td>5.434365</td>\n",
       "      <td>0.088645</td>\n",
       "      <td>0.761935</td>\n",
       "      <td>...</td>\n",
       "      <td>0.033626</td>\n",
       "      <td>0.008101</td>\n",
       "      <td>0.000940</td>\n",
       "      <td>0.000361</td>\n",
       "      <td>0.001071</td>\n",
       "      <td>0.000188</td>\n",
       "      <td>0.000146</td>\n",
       "      <td>0.000088</td>\n",
       "      <td>0.005119</td>\n",
       "      <td>2.238272</td>\n",
       "    </tr>\n",
       "    <tr>\n",
       "      <th>std</th>\n",
       "      <td>3.045450e+05</td>\n",
       "      <td>8.033617</td>\n",
       "      <td>412.711514</td>\n",
       "      <td>3646.127054</td>\n",
       "      <td>0.727665</td>\n",
       "      <td>19.606818</td>\n",
       "      <td>4.392231</td>\n",
       "      <td>1.918418</td>\n",
       "      <td>0.284231</td>\n",
       "      <td>0.425900</td>\n",
       "      <td>...</td>\n",
       "      <td>0.180265</td>\n",
       "      <td>0.089638</td>\n",
       "      <td>0.030647</td>\n",
       "      <td>0.018989</td>\n",
       "      <td>0.032703</td>\n",
       "      <td>0.013711</td>\n",
       "      <td>0.012075</td>\n",
       "      <td>0.009394</td>\n",
       "      <td>0.071364</td>\n",
       "      <td>0.611814</td>\n",
       "    </tr>\n",
       "    <tr>\n",
       "      <th>min</th>\n",
       "      <td>4.000000e+00</td>\n",
       "      <td>0.000000</td>\n",
       "      <td>0.000000</td>\n",
       "      <td>0.000000</td>\n",
       "      <td>1.000000</td>\n",
       "      <td>0.000000</td>\n",
       "      <td>1.000000</td>\n",
       "      <td>2.000000</td>\n",
       "      <td>0.000000</td>\n",
       "      <td>0.000000</td>\n",
       "      <td>...</td>\n",
       "      <td>0.000000</td>\n",
       "      <td>0.000000</td>\n",
       "      <td>0.000000</td>\n",
       "      <td>0.000000</td>\n",
       "      <td>0.000000</td>\n",
       "      <td>0.000000</td>\n",
       "      <td>0.000000</td>\n",
       "      <td>0.000000</td>\n",
       "      <td>0.000000</td>\n",
       "      <td>1.000000</td>\n",
       "    </tr>\n",
       "    <tr>\n",
       "      <th>25%</th>\n",
       "      <td>2.611900e+05</td>\n",
       "      <td>7.000000</td>\n",
       "      <td>350.000000</td>\n",
       "      <td>3073.000000</td>\n",
       "      <td>2.000000</td>\n",
       "      <td>10.000000</td>\n",
       "      <td>5.000000</td>\n",
       "      <td>4.000000</td>\n",
       "      <td>0.000000</td>\n",
       "      <td>1.000000</td>\n",
       "      <td>...</td>\n",
       "      <td>0.000000</td>\n",
       "      <td>0.000000</td>\n",
       "      <td>0.000000</td>\n",
       "      <td>0.000000</td>\n",
       "      <td>0.000000</td>\n",
       "      <td>0.000000</td>\n",
       "      <td>0.000000</td>\n",
       "      <td>0.000000</td>\n",
       "      <td>0.000000</td>\n",
       "      <td>2.000000</td>\n",
       "    </tr>\n",
       "    <tr>\n",
       "      <th>50%</th>\n",
       "      <td>5.257570e+05</td>\n",
       "      <td>12.000000</td>\n",
       "      <td>702.000000</td>\n",
       "      <td>6270.000000</td>\n",
       "      <td>2.000000</td>\n",
       "      <td>15.000000</td>\n",
       "      <td>7.000000</td>\n",
       "      <td>5.000000</td>\n",
       "      <td>0.000000</td>\n",
       "      <td>1.000000</td>\n",
       "      <td>...</td>\n",
       "      <td>0.000000</td>\n",
       "      <td>0.000000</td>\n",
       "      <td>0.000000</td>\n",
       "      <td>0.000000</td>\n",
       "      <td>0.000000</td>\n",
       "      <td>0.000000</td>\n",
       "      <td>0.000000</td>\n",
       "      <td>0.000000</td>\n",
       "      <td>0.000000</td>\n",
       "      <td>2.000000</td>\n",
       "    </tr>\n",
       "    <tr>\n",
       "      <th>75%</th>\n",
       "      <td>7.897620e+05</td>\n",
       "      <td>21.000000</td>\n",
       "      <td>1050.000000</td>\n",
       "      <td>9413.000000</td>\n",
       "      <td>2.000000</td>\n",
       "      <td>30.000000</td>\n",
       "      <td>9.000000</td>\n",
       "      <td>6.000000</td>\n",
       "      <td>0.000000</td>\n",
       "      <td>1.000000</td>\n",
       "      <td>...</td>\n",
       "      <td>0.000000</td>\n",
       "      <td>0.000000</td>\n",
       "      <td>0.000000</td>\n",
       "      <td>0.000000</td>\n",
       "      <td>0.000000</td>\n",
       "      <td>0.000000</td>\n",
       "      <td>0.000000</td>\n",
       "      <td>0.000000</td>\n",
       "      <td>0.000000</td>\n",
       "      <td>3.000000</td>\n",
       "    </tr>\n",
       "    <tr>\n",
       "      <th>max</th>\n",
       "      <td>1.052934e+06</td>\n",
       "      <td>30.000000</td>\n",
       "      <td>1427.000000</td>\n",
       "      <td>12567.000000</td>\n",
       "      <td>9.000000</td>\n",
       "      <td>200.000000</td>\n",
       "      <td>100.000000</td>\n",
       "      <td>32.000000</td>\n",
       "      <td>1.000000</td>\n",
       "      <td>1.000000</td>\n",
       "      <td>...</td>\n",
       "      <td>1.000000</td>\n",
       "      <td>1.000000</td>\n",
       "      <td>1.000000</td>\n",
       "      <td>1.000000</td>\n",
       "      <td>1.000000</td>\n",
       "      <td>1.000000</td>\n",
       "      <td>1.000000</td>\n",
       "      <td>1.000000</td>\n",
       "      <td>1.000000</td>\n",
       "      <td>3.000000</td>\n",
       "    </tr>\n",
       "  </tbody>\n",
       "</table>\n",
       "<p>8 rows × 32 columns</p>\n",
       "</div>"
      ],
      "text/plain": [
       "        building_id  geo_level_1_id  geo_level_2_id  geo_level_3_id  \\\n",
       "count  2.606010e+05   260601.000000   260599.000000   260569.000000   \n",
       "mean   5.256755e+05       13.900353      701.072429     6258.522472   \n",
       "std    3.045450e+05        8.033617      412.711514     3646.127054   \n",
       "min    4.000000e+00        0.000000        0.000000        0.000000   \n",
       "25%    2.611900e+05        7.000000      350.000000     3073.000000   \n",
       "50%    5.257570e+05       12.000000      702.000000     6270.000000   \n",
       "75%    7.897620e+05       21.000000     1050.000000     9413.000000   \n",
       "max    1.052934e+06       30.000000     1427.000000    12567.000000   \n",
       "\n",
       "       count_floors_pre_eq            age  area_percentage  height_percentage  \\\n",
       "count        260601.000000  259211.000000    260601.000000      260601.000000   \n",
       "mean              2.129723      21.341706         8.018051           5.434365   \n",
       "std               0.727665      19.606818         4.392231           1.918418   \n",
       "min               1.000000       0.000000         1.000000           2.000000   \n",
       "25%               2.000000      10.000000         5.000000           4.000000   \n",
       "50%               2.000000      15.000000         7.000000           5.000000   \n",
       "75%               2.000000      30.000000         9.000000           6.000000   \n",
       "max               9.000000     200.000000       100.000000          32.000000   \n",
       "\n",
       "       has_superstructure_adobe_mud  has_superstructure_mud_mortar_stone  ...  \\\n",
       "count                 260601.000000                        260601.000000  ...   \n",
       "mean                       0.088645                             0.761935  ...   \n",
       "std                        0.284231                             0.425900  ...   \n",
       "min                        0.000000                             0.000000  ...   \n",
       "25%                        0.000000                             1.000000  ...   \n",
       "50%                        0.000000                             1.000000  ...   \n",
       "75%                        0.000000                             1.000000  ...   \n",
       "max                        1.000000                             1.000000  ...   \n",
       "\n",
       "       has_secondary_use_hotel  has_secondary_use_rental  \\\n",
       "count            260601.000000             260601.000000   \n",
       "mean                  0.033626                  0.008101   \n",
       "std                   0.180265                  0.089638   \n",
       "min                   0.000000                  0.000000   \n",
       "25%                   0.000000                  0.000000   \n",
       "50%                   0.000000                  0.000000   \n",
       "75%                   0.000000                  0.000000   \n",
       "max                   1.000000                  1.000000   \n",
       "\n",
       "       has_secondary_use_institution  has_secondary_use_school  \\\n",
       "count                  260601.000000             260601.000000   \n",
       "mean                        0.000940                  0.000361   \n",
       "std                         0.030647                  0.018989   \n",
       "min                         0.000000                  0.000000   \n",
       "25%                         0.000000                  0.000000   \n",
       "50%                         0.000000                  0.000000   \n",
       "75%                         0.000000                  0.000000   \n",
       "max                         1.000000                  1.000000   \n",
       "\n",
       "       has_secondary_use_industry  has_secondary_use_health_post  \\\n",
       "count               260601.000000                  260601.000000   \n",
       "mean                     0.001071                       0.000188   \n",
       "std                      0.032703                       0.013711   \n",
       "min                      0.000000                       0.000000   \n",
       "25%                      0.000000                       0.000000   \n",
       "50%                      0.000000                       0.000000   \n",
       "75%                      0.000000                       0.000000   \n",
       "max                      1.000000                       1.000000   \n",
       "\n",
       "       has_secondary_use_gov_office  has_secondary_use_use_police  \\\n",
       "count                 260601.000000                 260601.000000   \n",
       "mean                       0.000146                      0.000088   \n",
       "std                        0.012075                      0.009394   \n",
       "min                        0.000000                      0.000000   \n",
       "25%                        0.000000                      0.000000   \n",
       "50%                        0.000000                      0.000000   \n",
       "75%                        0.000000                      0.000000   \n",
       "max                        1.000000                      1.000000   \n",
       "\n",
       "       has_secondary_use_other   damage_grade  \n",
       "count            260601.000000  260601.000000  \n",
       "mean                  0.005119       2.238272  \n",
       "std                   0.071364       0.611814  \n",
       "min                   0.000000       1.000000  \n",
       "25%                   0.000000       2.000000  \n",
       "50%                   0.000000       2.000000  \n",
       "75%                   0.000000       3.000000  \n",
       "max                   1.000000       3.000000  \n",
       "\n",
       "[8 rows x 32 columns]"
      ]
     },
     "execution_count": 16,
     "metadata": {},
     "output_type": "execute_result"
    }
   ],
   "source": [
    "full_train.describe()"
   ]
  },
  {
   "cell_type": "code",
   "execution_count": 17,
   "metadata": {},
   "outputs": [
    {
     "data": {
      "image/png": "[encoded data removed]",
      "text/plain": [
       "<Figure size 1080x720 with 2 Axes>"
      ]
     },
     "metadata": {},
     "output_type": "display_data"
    }
   ],
   "source": [
    "missing_value_plot(full_train)"
   ]
  },
  {
   "cell_type": "code",
   "execution_count": 21,
   "metadata": {},
   "outputs": [
    {
     "data": {
      "text/plain": [
       "<AxesSubplot:xlabel='damage_grade', ylabel='age'>"
      ]
     },
     "execution_count": 21,
     "metadata": {},
     "output_type": "execute_result"
    },
    {
     "data": {
      "image/png": "[encoded data removed]",
      "text/plain": [
       "<Figure size 576x396 with 1 Axes>"
      ]
     },
     "metadata": {},
     "output_type": "display_data"
    }
   ],
   "source": [
    "full_train.plot.scatter('damage_grade', \"age\")"
   ]
  },
  {
   "cell_type": "code",
   "execution_count": 19,
   "metadata": {},
   "outputs": [
    {
     "data": {
      "text/plain": [
       "age\n",
       "10.0     38896\n",
       "15.0     36010\n",
       "5.0      33697\n",
       "20.0     32182\n",
       "0.0      26041\n",
       "25.0     24366\n",
       "30.0     18028\n",
       "35.0     10710\n",
       "40.0     10559\n",
       "50.0      7257\n",
       "45.0      4711\n",
       "60.0      3612\n",
       "80.0      3055\n",
       "55.0      2033\n",
       "70.0      1975\n",
       "100.0     1364\n",
       "65.0      1123\n",
       "90.0      1085\n",
       "85.0       847\n",
       "75.0       512\n",
       "95.0       414\n",
       "120.0      180\n",
       "150.0      142\n",
       "200.0      106\n",
       "110.0      100\n",
       "105.0       89\n",
       "125.0       37\n",
       "115.0       21\n",
       "130.0        9\n",
       "140.0        9\n",
       "180.0        7\n",
       "170.0        6\n",
       "160.0        6\n",
       "175.0        5\n",
       "135.0        5\n",
       "145.0        3\n",
       "190.0        3\n",
       "165.0        2\n",
       "195.0        2\n",
       "185.0        1\n",
       "155.0        1\n",
       "dtype: int64"
      ]
     },
     "execution_count": 19,
     "metadata": {},
     "output_type": "execute_result"
    }
   ],
   "source": [
    "full_train.value_counts(\"age\", sort = True)"
   ]
  },
  {
   "cell_type": "code",
   "execution_count": 25,
   "metadata": {},
   "outputs": [
    {
     "data": {
      "text/plain": [
       "building_id                               0.001063\n",
       "geo_level_1_id                           -0.072347\n",
       "geo_level_2_id                            0.043163\n",
       "geo_level_3_id                            0.007837\n",
       "count_floors_pre_eq                       0.122308\n",
       "age                                       0.148396\n",
       "area_percentage                          -0.125221\n",
       "height_percentage                         0.048130\n",
       "has_superstructure_adobe_mud              0.055314\n",
       "has_superstructure_mud_mortar_stone       0.291325\n",
       "has_superstructure_stone_flag             0.066039\n",
       "has_superstructure_cement_mortar_stone   -0.060295\n",
       "has_superstructure_mud_mortar_brick       0.014561\n",
       "has_superstructure_cement_mortar_brick   -0.254131\n",
       "has_superstructure_timber                -0.069852\n",
       "has_superstructure_bamboo                -0.063051\n",
       "has_superstructure_rc_non_engineered     -0.158145\n",
       "has_superstructure_rc_engineered         -0.179014\n",
       "has_superstructure_other                 -0.030224\n",
       "count_families                            0.056151\n",
       "has_secondary_use                        -0.079630\n",
       "has_secondary_use_agriculture             0.011309\n",
       "has_secondary_use_hotel                  -0.097942\n",
       "has_secondary_use_rental                 -0.083754\n",
       "has_secondary_use_institution            -0.028728\n",
       "has_secondary_use_school                 -0.011692\n",
       "has_secondary_use_industry               -0.011024\n",
       "has_secondary_use_health_post            -0.008543\n",
       "has_secondary_use_gov_office             -0.009378\n",
       "has_secondary_use_use_police             -0.001656\n",
       "has_secondary_use_other                  -0.016334\n",
       "damage_grade                              1.000000\n",
       "dtype: float64"
      ]
     },
     "execution_count": 25,
     "metadata": {},
     "output_type": "execute_result"
    }
   ],
   "source": [
    "full_train.corrwith(full_train['damage_grade'])"
   ]
  },
  {
   "cell_type": "code",
   "execution_count": 80,
   "metadata": {},
   "outputs": [],
   "source": [
    "drop_vars = ['building_id', 'damage_grade',\n",
    "             'has_superstructure_bamboo',                \n",
    "'has_superstructure_mud_mortar_brick',       \n",
    "'has_superstructure_adobe_mud',              \n",
    "'legal_ownership_status',                    \n",
    "'has_secondary_use',                         \n",
    "'has_superstructure_stone_flag',             \n",
    "'has_superstructure_rc_non_engineered',      \n",
    "'has_superstructure_rc_engineered',          \n",
    "'has_secondary_use_agriculture',             \n",
    "'has_superstructure_cement_mortar_stone',    \n",
    "'has_secondary_use_hotel',                   \n",
    "'has_superstructure_other',                \n",
    "'has_secondary_use_rental',                  \n",
    "'has_secondary_use_other',                   \n",
    "'has_secondary_use_industry',               \n",
    "'has_secondary_use_institution',             \n",
    "'has_secondary_use_school',                  \n",
    "'has_secondary_use_health_post',            \n",
    "'has_secondary_use_gov_office',          \n",
    "'has_secondary_use_use_police' ]"
   ]
  },
  {
   "cell_type": "code",
   "execution_count": 81,
   "metadata": {},
   "outputs": [
    {
     "name": "stderr",
     "output_type": "stream",
     "text": [
      "/home/matt/anaconda3/lib/python3.8/site-packages/category_encoders/utils.py:21: FutureWarning: is_categorical is deprecated and will be removed in a future version.  Use is_categorical_dtype instead\n",
      "  elif pd.api.types.is_categorical(cols):\n"
     ]
    }
   ],
   "source": [
    "import category_encoders as ce\n",
    "targ_enc = ce.TargetEncoder()\n",
    "targ_enc.fit(full_train.drop(drop_vars, axis = 1), train_labels['damage_grade'])\n",
    "rf_test = targ_enc.transform(full_train.drop(drop_vars, axis = 1))"
   ]
  },
  {
   "cell_type": "code",
   "execution_count": 82,
   "metadata": {},
   "outputs": [],
   "source": [
    "imp = IterativeImputer(max_iter=10, max_value = 2013)\n",
    "imp.fit(rf_test)\n",
    "\n",
    "rf_test = pd.DataFrame(imp.transform(rf_test), columns = rf_test.columns)\n"
   ]
  },
  {
   "cell_type": "code",
   "execution_count": 49,
   "metadata": {},
   "outputs": [],
   "source": [
    "from sklearn.ensemble import RandomForestClassifier\n",
    "from sklearn.model_selection import cross_val_score\n",
    "from sklearn.metrics import f1_score, make_scorer"
   ]
  },
  {
   "cell_type": "code",
   "execution_count": 83,
   "metadata": {},
   "outputs": [],
   "source": [
    "rf_vals = train_labels['damage_grade']\n",
    "rf = RandomForestClassifier(max_depth = 20, random_state = 23456)"
   ]
  },
  {
   "cell_type": "code",
   "execution_count": 84,
   "metadata": {},
   "outputs": [
    {
     "name": "stdout",
     "output_type": "stream",
     "text": [
      "[0.71646745 0.70949731 0.71751727 0.71767076 0.71542594]\n"
     ]
    }
   ],
   "source": [
    "cvs = cross_val_score(rf, rf_test, rf_vals, scoring = make_scorer(f1_score, average='micro'), cv = 5)\n",
    "print(cvs)"
   ]
  },
  {
   "cell_type": "code",
   "execution_count": 85,
   "metadata": {},
   "outputs": [
    {
     "data": {
      "text/plain": [
       "RandomForestClassifier(max_depth=20, random_state=23456)"
      ]
     },
     "execution_count": 85,
     "metadata": {},
     "output_type": "execute_result"
    }
   ],
   "source": [
    "rf.fit(rf_test, rf_vals)"
   ]
  },
  {
   "cell_type": "code",
   "execution_count": 86,
   "metadata": {},
   "outputs": [
    {
     "name": "stdout",
     "output_type": "stream",
     "text": [
      "                                     importance\n",
      "geo_level_1_id                         0.239228\n",
      "geo_level_2_id                         0.140090\n",
      "geo_level_3_id                         0.130122\n",
      "area_percentage                        0.091041\n",
      "age                                    0.083829\n",
      "foundation_type                        0.054752\n",
      "height_percentage                      0.053705\n",
      "ground_floor_type                      0.043231\n",
      "other_floor_type                       0.030503\n",
      "roof_type                              0.029687\n",
      "has_superstructure_mud_mortar_stone    0.028310\n",
      "count_floors_pre_eq                    0.025939\n",
      "position                               0.024941\n",
      "count_families                         0.024622\n"
     ]
    }
   ],
   "source": [
    "feature_importances = pd.DataFrame(rf.feature_importances_,\n",
    "                                    index = rf_test.columns,\n",
    "                                     columns=['importance']).sort_values('importance',   \n",
    "                                                                         ascending=False)\n",
    "                                                                        \n",
    "print(feature_importances)"
   ]
  },
  {
   "cell_type": "code",
   "execution_count": 87,
   "metadata": {},
   "outputs": [],
   "source": [
    "test = pd.read_csv('test_values.csv')"
   ]
  },
  {
   "cell_type": "code",
   "execution_count": 88,
   "metadata": {},
   "outputs": [],
   "source": [
    "test['damage_grade'] = 1\n",
    "m_test = targ_enc.transform(test.drop(drop_vars, axis = 1))\n",
    "m_test = pd.DataFrame(imp.transform(m_test), columns = m_test.columns)"
   ]
  },
  {
   "cell_type": "code",
   "execution_count": 89,
   "metadata": {},
   "outputs": [],
   "source": [
    "test[\"damage_grade\"] = rf.predict(m_test)"
   ]
  },
  {
   "cell_type": "code",
   "execution_count": 90,
   "metadata": {},
   "outputs": [],
   "source": [
    "test[['building_id', 'damage_grade']].to_csv(\"rf_dropped_low_importance.csv\", index = False)"
   ]
  },
  {
   "cell_type": "code",
   "execution_count": null,
   "metadata": {},
   "outputs": [],
   "source": []
  }
 ],
 "metadata": {
  "kernelspec": {
   "display_name": "Python 3",
   "language": "python",
   "name": "python3"
  },
  "language_info": {
   "codemirror_mode": {
    "name": "ipython",
    "version": 3
   },
   "file_extension": ".py",
   "mimetype": "text/x-python",
   "name": "python",
   "nbconvert_exporter": "python",
   "pygments_lexer": "ipython3",
   "version": "3.8.5"
  }
 },
 "nbformat": 4,
 "nbformat_minor": 4
}
